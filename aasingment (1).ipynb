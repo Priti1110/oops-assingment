{
 "cells": [
  {
   "cell_type": "code",
   "execution_count": 1,
   "id": "e96c1318-cd09-49a6-8cf0-89136c79ecf0",
   "metadata": {},
   "outputs": [],
   "source": [
    "#Q1. Explain Class and Object with respect to Object-Oriented Programming. Give a suitable example."
   ]
  },
  {
   "cell_type": "code",
   "execution_count": 9,
   "id": "51fbae71-6375-4837-bf09-0abf684ec174",
   "metadata": {},
   "outputs": [
    {
     "name": "stdout",
     "output_type": "stream",
     "text": [
      "5\n",
      "10\n"
     ]
    }
   ],
   "source": [
    "#In object-oriented programming (OOP), a class is a blueprint or template for creating objects. Objects are instances of classes and represent real-world entities. A class defines the properties (attributes) and behaviors (methods) that its objects will have.\n",
    "\n",
    "#For example, consider a class called Car:\n",
    "\n",
    "class Car:\n",
    "    def __init__(self, make, model, year):\n",
    "        self.make = make\n",
    "        self.model = model\n",
    "        self.year = year\n",
    "        self.speed = 0\n",
    "\n",
    "    def accelerate(self):\n",
    "        self.speed += 5\n",
    "\n",
    "    def brake(self):\n",
    "        self.speed -= 5\n",
    "        if self.speed < 0:\n",
    "            self.speed = 0\n",
    "\n",
    "\n",
    "#Here, Car is a class with attributes like make, model, year, and a method to accelerate or brake. You can create objects (instances) of this class, each representing a specific car:\n",
    "\n",
    "my_car = Car(\"Toyota\", \"Camry\", 2022)\n",
    "your_car = Car(\"Honda\", \"Accord\", 2023)\n",
    "\n",
    "my_car.accelerate()\n",
    "print(my_car.speed)  # Output: 5\n",
    "\n",
    "your_car.accelerate()\n",
    "your_car.accelerate()\n",
    "print(your_car.speed)  # Output: 10\n",
    "\n",
    "\n",
    "#In this example, my_car and your_car are objects of the Car class, each with its own set of attributes (make, model, year) and the ability to perform actions (accelerate, brake)."
   ]
  },
  {
   "cell_type": "markdown",
   "id": "c71745da-5049-4968-9d27-8e2923113b6f",
   "metadata": {},
   "source": [
    "#Q2. Name the four pillars of OOPs."
   ]
  },
  {
   "cell_type": "markdown",
   "id": "5fa9cf64-d39e-4f95-868e-ec7d004fb23a",
   "metadata": {},
   "source": [
    "#The four pillars of object-oriented programming (OOP) are:\n",
    "\n",
    "1. *Encapsulation:* It involves bundling the data (attributes) and the methods (functions) that operate on the data into a single unit called a class. Encapsulation helps in hiding the internal details of the object and restricting access to the data, only allowing it to be modified by well-defined methods.\n",
    "\n",
    "2. *Abstraction:* Abstraction involves simplifying complex systems by modeling classes based on the essential features an object must have. It allows developers to focus on what an object does rather than how it achieves its functionality. Abstraction is achieved through abstract classes and interfaces.\n",
    "\n",
    "3. *Inheritance:* Inheritance is a mechanism that allows a new class (subclass or derived class) to inherit properties and behaviors of an existing class (superclass or base class). It promotes code reusability and establishes a relationship between classes, where the subclass can extend or override the functionalities of the superclass.\n",
    "\n",
    "4. *Polymorphism:* Polymorphism allows objects of different classes to be treated as objects of a common base class. It enables a single interface to represent different types of objects, and it can be achieved through method overloading and method overriding. Polymorphism contributes to code flexibility and extensibility."
   ]
  },
  {
   "cell_type": "markdown",
   "id": "8a7a3ac2-15c1-47bd-8448-3190e527f965",
   "metadata": {},
   "source": [
    "Q3. What is abc module in python? Why is it used?"
   ]
  },
  {
   "cell_type": "markdown",
   "id": "445da280-89e7-43c2-9ec3-b5fdcb1c287d",
   "metadata": {},
   "source": [
    "#ANS :The abc module in Python stands for \"Abstract Base Classes.\" It provides the ABC (Abstract Base Class) and abstractmethod decorator, allowing you to define abstract classes and abstract methods.\n",
    "\n",
    "#Abstract classes are classes that cannot be instantiated on their own and are meant to be subclassed by other classes. Abstract methods are methods declared in the abstract class but have no implementation. Subclasses must provide concrete implementations for these abstract methods.\n",
    "\n",
    "#Here's a simple example:\n",
    "\n",
    "#python\n",
    "#from abc import ABC, abstractmethod\n",
    "\n",
    "class Shape(ABC):\n",
    "    @abstractmethod\n",
    "    def area(self):\n",
    "        pass\n",
    "\n",
    "class Circle(Shape):\n",
    "    def __init__(self, radius):\n",
    "        self.radius = radius\n",
    "\n",
    "    def area(self):\n",
    "        return 3.14 * self.radius**2\n",
    "\n",
    "class Square(Shape):\n",
    "    def __init__(self, side):\n",
    "        self.side = side\n",
    "\n",
    "    def area(self):\n",
    "        return self.side**2\n",
    "\n",
    "\n",
    "#The abc module helps enforce a structure in your code by allowing you to define abstract classes and ensure that specific methods must be implemented by their subclasses. This can improve code clarity, maintainability, and help catch errors during development."
   ]
  },
  {
   "cell_type": "code",
   "execution_count": null,
   "id": "434aebb0-925f-47e6-9ac4-68faa25816e0",
   "metadata": {},
   "outputs": [],
   "source": [
    "Q4. How can we achieve data abstraction?"
   ]
  },
  {
   "cell_type": "markdown",
   "id": "20dd677d-5e6b-4f7a-8955-93a2c5ad379c",
   "metadata": {},
   "source": [
    "Data abstraction in Python is achieved through the use of classes and interfaces. Here are the key techniques:\n",
    "\n",
    "1. *Classes and Objects:*\n",
    "   - Define a class to represent a concept or entity in your program.\n",
    "   - Encapsulate the data (attributes) and methods (functions) related to that concept within the class.\n",
    "   - Use access modifiers (e.g., private attributes) to control the visibility of data, providing a level of abstraction by hiding implementation details.\n",
    "\n",
    "   python\n",
    "   class Student:\n",
    "       def __init__(self, name, age):\n",
    "           self._name = name  # Private attribute\n",
    "           self._age = age\n",
    "\n",
    "       def get_name(self):\n",
    "           return self._name\n",
    "\n",
    "       def study(self):\n",
    "           print(f\"{self._name} is studying.\")\n",
    "   \n",
    "\n",
    "2. *Interfaces and Abstract Classes:*\n",
    "   - Define interfaces or abstract classes that declare abstract methods without providing their implementation.\n",
    "   - Subclasses must implement these abstract methods, ensuring a consistent interface while allowing for different implementations.\n",
    "\n",
    "   python\n",
    "   from abc import ABC, abstractmethod\n",
    "\n",
    "   class Shape(ABC):\n",
    "       @abstractmethod\n",
    "       def area(self):\n",
    "           pass\n",
    "\n",
    "   class Circle(Shape):\n",
    "       def __init__(self, radius):\n",
    "           self.radius = radius\n",
    "\n",
    "       def area(self):\n",
    "           return 3.14 * self.radius**2\n",
    "   \n",
    "\n",
    "   In this example, Shape is an abstract class with an abstract method area. Any class inheriting from Shape must provide a concrete implementation for the area method.\n",
    "\n",
    "By using classes, access modifiers, abstract classes, and interfaces, you can achieve data abstraction in Python. Abstraction helps in organizing code, hiding unnecessary details, and providing a clear interface for interacting with objects in your program."
   ]
  },
  {
   "cell_type": "markdown",
   "id": "fd3a0d16-d10b-4d4d-9db9-89a8bc5e5ac8",
   "metadata": {},
   "source": [
    "Data abstraction in Python is achieved through the use of classes and interfaces. Here are the key techniques:\n",
    "\n",
    "1. *Classes and Objects:*\n",
    "   - Define a class to represent a concept or entity in your program.\n",
    "   - Encapsulate the data (attributes) and methods (functions) related to that concept within the class.\n",
    "   - Use access modifiers (e.g., private attributes) to control the visibility of data, providing a level of abstraction by hiding implementation details.\n",
    "\n",
    "   python\n",
    "   class Student:\n",
    "       def __init__(self, name, age):\n",
    "           self._name = name  # Private attribute\n",
    "           self._age = age\n",
    "\n",
    "       def get_name(self):\n",
    "           return self._name\n",
    "\n",
    "       def study(self):\n",
    "           print(f\"{self._name} is studying.\")\n",
    "   \n",
    "\n",
    "2. *Interfaces and Abstract Classes:*\n",
    "   - Define interfaces or abstract classes that declare abstract methods without providing their implementation.\n",
    "   - Subclasses must implement these abstract methods, ensuring a consistent interface while allowing for different implementations.\n",
    "\n",
    "   python\n",
    "   from abc import ABC, abstractmethod\n",
    "\n",
    "   class Shape(ABC):\n",
    "       @abstractmethod\n",
    "       def area(self):\n",
    "           pass\n",
    "\n",
    "   class Circle(Shape):\n",
    "       def __init__(self, radius):\n",
    "           self.radius = radius\n",
    "\n",
    "       def area(self):\n",
    "           return 3.14 * self.radius**2\n",
    "   \n",
    "\n",
    "   In this example, Shape is an abstract class with an abstract method area. Any class inheriting from Shape must provide a concrete implementation for the area method.\n",
    "\n",
    "By using classes, access modifiers, abstract classes, and interfaces, you can achieve data abstraction in Python. Abstraction helps in organizing code, hiding unnecessary details, and providing a clear interface for interacting with objects in your program."
   ]
  },
  {
   "cell_type": "code",
   "execution_count": 2,
   "id": "68fbaaf8-9c26-47db-a2fa-6725fff57971",
   "metadata": {},
   "outputs": [],
   "source": [
    "#Q5. Can we create an instance of an abstract class? Explain your answer."
   ]
  },
  {
   "cell_type": "markdown",
   "id": "83a7ff54-d52f-4f77-8f66-7e113c332420",
   "metadata": {},
   "source": [
    "No, you cannot create an instance of an abstract class in Python. Abstract classes are meant to be incomplete, containing abstract methods without implementations. They serve as blueprints for other classes to inherit and provide concrete implementations for those abstract methods.\n",
    "\n",
    "Attempting to create an instance of an abstract class directly will result in a TypeError. Abstract classes are designed to be subclassed, and their instances are expected to be created through their concrete subclasses.\n",
    "\n",
    "In simple words, it's like having a blueprint for a generic shape without specifying whether it's a circle, square, or triangle. You can't create an actual shape without deciding on a specific type, and similarly, you can't create an instance of an abstract class without defining its concrete implementation in a subclass."
   ]
  }
 ],
 "metadata": {
  "kernelspec": {
   "display_name": "Python 3 (ipykernel)",
   "language": "python",
   "name": "python3"
  },
  "language_info": {
   "codemirror_mode": {
    "name": "ipython",
    "version": 3
   },
   "file_extension": ".py",
   "mimetype": "text/x-python",
   "name": "python",
   "nbconvert_exporter": "python",
   "pygments_lexer": "ipython3",
   "version": "3.10.8"
  }
 },
 "nbformat": 4,
 "nbformat_minor": 5
}
